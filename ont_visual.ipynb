{
 "cells": [
  {
   "cell_type": "code",
   "execution_count": 5,
   "metadata": {},
   "outputs": [
    {
     "name": "stderr",
     "output_type": "stream",
     "text": [
      "\u001b[2mDone.\u001b[0m\n",
      "\u001b[2m=> file:///Users/wbagger/ontospy-viz/userswbaggerdocumentscmpe491tbmm-rel-01-06-2025owl/index.html\u001b[0m\n"
     ]
    }
   ],
   "source": [
    "%pip install ontospy\n"
   ]
  },
  {
   "cell_type": "code",
   "execution_count": 4,
   "metadata": {},
   "outputs": [
    {
     "name": "stdout",
     "output_type": "stream",
     "text": [
      "Requirement already satisfied: ontospy in /opt/homebrew/lib/python3.11/site-packages (2.1.1)\n",
      "Requirement already satisfied: rdflib in /opt/homebrew/lib/python3.11/site-packages (from ontospy) (7.1.4)\n",
      "Requirement already satisfied: SPARQLWrapper in /opt/homebrew/lib/python3.11/site-packages (from ontospy) (2.0.0)\n",
      "Requirement already satisfied: html5lib in /opt/homebrew/lib/python3.11/site-packages (from ontospy) (1.1)\n",
      "Requirement already satisfied: requests in /opt/homebrew/lib/python3.11/site-packages (from ontospy) (2.31.0)\n",
      "Requirement already satisfied: pyfiglet in /opt/homebrew/lib/python3.11/site-packages (from ontospy) (1.0.2)\n",
      "Requirement already satisfied: click in /opt/homebrew/lib/python3.11/site-packages (from ontospy) (8.1.7)\n",
      "Requirement already satisfied: colorama in /opt/homebrew/lib/python3.11/site-packages (from ontospy) (0.4.6)\n",
      "Requirement already satisfied: pyparsing in /opt/homebrew/lib/python3.11/site-packages (from ontospy) (3.0.9)\n",
      "Requirement already satisfied: jinja2 in /opt/homebrew/lib/python3.11/site-packages (from ontospy) (3.1.3)\n",
      "Requirement already satisfied: jinja2-time in /opt/homebrew/lib/python3.11/site-packages (from ontospy) (0.2.0)\n",
      "Requirement already satisfied: pygments in /opt/homebrew/lib/python3.11/site-packages (from ontospy) (2.16.1)\n",
      "Requirement already satisfied: six>=1.9 in /opt/homebrew/lib/python3.11/site-packages (from html5lib->ontospy) (1.16.0)\n",
      "Requirement already satisfied: webencodings in /opt/homebrew/lib/python3.11/site-packages (from html5lib->ontospy) (0.5.1)\n",
      "Requirement already satisfied: MarkupSafe>=2.0 in /opt/homebrew/lib/python3.11/site-packages (from jinja2->ontospy) (2.1.5)\n",
      "Requirement already satisfied: arrow in /opt/homebrew/lib/python3.11/site-packages (from jinja2-time->ontospy) (1.2.3)\n",
      "Requirement already satisfied: charset-normalizer<4,>=2 in /opt/homebrew/lib/python3.11/site-packages (from requests->ontospy) (3.3.2)\n",
      "Requirement already satisfied: idna<4,>=2.5 in /opt/homebrew/lib/python3.11/site-packages (from requests->ontospy) (3.7)\n",
      "Requirement already satisfied: urllib3<3,>=1.21.1 in /opt/homebrew/lib/python3.11/site-packages (from requests->ontospy) (2.0.7)\n",
      "Requirement already satisfied: certifi>=2017.4.17 in /opt/homebrew/lib/python3.11/site-packages (from requests->ontospy) (2024.2.2)\n",
      "Requirement already satisfied: python-dateutil>=2.7.0 in /opt/homebrew/lib/python3.11/site-packages (from arrow->jinja2-time->ontospy) (2.9.0.post0)\n",
      "\n",
      "\u001b[1m[\u001b[0m\u001b[34;49mnotice\u001b[0m\u001b[1;39;49m]\u001b[0m\u001b[39;49m A new release of pip is available: \u001b[0m\u001b[31;49m25.0.1\u001b[0m\u001b[39;49m -> \u001b[0m\u001b[32;49m25.1.1\u001b[0m\n",
      "\u001b[1m[\u001b[0m\u001b[34;49mnotice\u001b[0m\u001b[1;39;49m]\u001b[0m\u001b[39;49m To update, run: \u001b[0m\u001b[32;49mpython3.11 -m pip install --upgrade pip\u001b[0m\n",
      "Note: you may need to restart the kernel to use updated packages.\n"
     ]
    }
   ],
   "source": [
    "import ontospy\n",
    "from ontospy.gendocs.viz.viz_html_single import *\n",
    "\n",
    "g = ontospy.Ontospy(\"/Users/wbagger/Documents/CMPE491/tbmm-rel-01-06-2025.owl\")\n",
    "\n",
    "v = HTMLVisualizer(g) # => instantiate the visualization object\n",
    "v.build() # => render visualization. You can pass an 'output_path' parameter too\n",
    "v.preview() # => open in browser"
   ]
  },
  {
   "cell_type": "code",
   "execution_count": null,
   "metadata": {},
   "outputs": [],
   "source": []
  },
  {
   "cell_type": "code",
   "execution_count": null,
   "metadata": {},
   "outputs": [],
   "source": []
  }
 ],
 "metadata": {
  "kernelspec": {
   "display_name": "myenv",
   "language": "python",
   "name": "python3"
  },
  "language_info": {
   "codemirror_mode": {
    "name": "ipython",
    "version": 3
   },
   "file_extension": ".py",
   "mimetype": "text/x-python",
   "name": "python",
   "nbconvert_exporter": "python",
   "pygments_lexer": "ipython3",
   "version": "3.11.12"
  },
  "orig_nbformat": 4
 },
 "nbformat": 4,
 "nbformat_minor": 2
}
